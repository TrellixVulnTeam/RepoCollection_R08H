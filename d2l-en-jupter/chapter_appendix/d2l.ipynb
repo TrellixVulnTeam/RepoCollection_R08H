{
 "cells": [
  {
   "cell_type": "markdown",
   "metadata": {},
   "source": [
    "# `d2l` API Document\n",
    "\n",
    ":label:`chapter_d2l`\n",
    "\n",
    "\n",
    "## Basic and Plotting"
   ]
  },
  {
   "cell_type": "markdown",
   "metadata": {},
   "source": [
    "```eval_rst\n",
    "\n",
    ".. automodule:: d2l.base\n",
    "   :members:\n",
    "\n",
    ".. automodule:: d2l.figure\n",
    "   :members:\n",
    "\n",
    "```\n"
   ]
  },
  {
   "cell_type": "markdown",
   "metadata": {},
   "source": [
    "## Loading Data"
   ]
  },
  {
   "cell_type": "markdown",
   "metadata": {},
   "source": [
    "```eval_rst\n",
    "\n",
    ".. automodule:: d2l.data\n",
    "   :members:\n",
    "\n",
    ".. automodule:: d2l.data.base\n",
    "   :members:\n",
    "\n",
    ".. automodule:: d2l.data.fashion_mnist\n",
    "   :members:\n",
    "\n",
    ".. automodule:: d2l.data.imdb\n",
    "   :members:\n",
    "\n",
    ".. automodule:: d2l.data.pikachu\n",
    "   :members:\n",
    "\n",
    ".. automodule:: d2l.data.voc\n",
    "   :members:\n",
    "\n",
    "```\n"
   ]
  },
  {
   "cell_type": "markdown",
   "metadata": {},
   "source": [
    "## Building Neural Networks"
   ]
  },
  {
   "cell_type": "markdown",
   "metadata": {},
   "source": [
    "```eval_rst\n",
    "\n",
    ".. automodule:: d2l.model\n",
    "   :members:\n",
    "\n",
    "```\n"
   ]
  },
  {
   "cell_type": "markdown",
   "metadata": {},
   "source": [
    "## Training"
   ]
  },
  {
   "cell_type": "markdown",
   "metadata": {},
   "source": [
    "```eval_rst\n",
    "\n",
    ".. automodule:: d2l.train\n",
    "   :members:\n",
    "\n",
    "```\n"
   ]
  }
 ],
 "metadata": {
  "language_info": {
   "name": "python"
  }
 },
 "nbformat": 4,
 "nbformat_minor": 2
}