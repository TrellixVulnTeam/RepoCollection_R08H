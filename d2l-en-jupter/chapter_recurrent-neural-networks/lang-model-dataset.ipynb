{
 "cells": [
  {
   "cell_type": "markdown",
   "metadata": {},
   "source": [
    "# Text Preprocessing\n",
    "\n",
    ":label:`chapter_lang_model_dataset`\n",
    "\n",
    "\n",
    "In the previous section we discussed some properties that make language\n",
    "unique. The key is that the number of tokens (aka words) is large and very\n",
    "unevenly distributed. Hence, a naive multiclass classification approach to\n",
    "predict the next symbol doesn't always work very well. Moreover, we need to turn\n",
    "text into a format that we can optimize over, i.e. we need to map it to\n",
    "vectors. At its extreme we have two alternatives. One is to treat each word as a\n",
    "unique entity, e.g. :cite:`Salton.Wong.Yang.1975`.  The problem with this\n",
    "strategy is that we might well have to deal with 100,000 to 1,000,000 vectors\n",
    "for very large and diverse corpora.\n",
    "\n",
    "At the other extreme lies the strategy to predict one character at a time, as\n",
    "suggested e.g. by [Ling et al., 2015](https://arxiv.org/pdf/1508.02096.pdf). A\n",
    "good balance in between both strategies is\n",
    "[byte-pair encoding](https://en.wikipedia.org/wiki/Byte_pair_encoding), as\n",
    "described by\n",
    "[Sennrich, Haddow and Birch, 2015](https://arxiv.org/abs/1508.07909) for the\n",
    "purpose of neural machine translation. It decomposes text into syllable-like\n",
    "fragments that occur frequently. This allows for models that are able to\n",
    "generate words like `heteroscedastic` or `pentagram` based on previously viewed\n",
    "words, e.g. `heterogeneous`, `homoscedastic`, `diagram`, and `pentagon`. Going\n",
    "into details of these models is beyond the scope of the current chapter. We will\n",
    "address this later when discussing\n",
    "natural language processing (:numref:`chapter_nlp`) in much\n",
    "more detail. Suffice it to say that it can contribute significantly to the\n",
    "accuracy of natural language processing models.\n",
    "\n",
    "For the sake of simplicity we will limit ourselves to pure character sequences. We use H.G. Wells' *The Timemachine* as before. We begin by filtering the text and convert it into a a sequence of character IDs.\n",
    "\n",
    "## Data Loading\n",
    "\n",
    "We begin, as before, by loading the data and by mapping it into a sequence of whitespaces, punctuation signs and regular characters. Preprocessing is minimal and we limit ourselves to removing multiple whitespaces."
   ]
  },
  {
   "cell_type": "code",
   "execution_count": 1,
   "metadata": {
    "attributes": {
     "classes": [],
     "id": "",
     "n": "42"
    }
   },
   "outputs": [
    {
     "name": "stdout",
     "output_type": "stream",
     "text": [
      "The Time Machine, by H. G. Wells [1898]\n",
      "\n",
      "\n",
      "\n",
      "\n",
      "I\n",
      "\n",
      "\n",
      "The Time Traveller (for so it will be convenient to speak of h\n"
     ]
    }
   ],
   "source": [
    "import sys\n",
    "sys.path.insert(0, '..')\n",
    "\n",
    "from mxnet import nd\n",
    "import random\n",
    "import collections\n",
    "\n",
    "with open('../data/timemachine.txt', 'r') as f:\n",
    "    raw_text = f.read()\n",
    "print(raw_text[0:110])"
   ]
  },
  {
   "cell_type": "markdown",
   "metadata": {},
   "source": [
    "## Tokenization\n",
    "\n",
    "Next we need to split the dataset, a string, into tokens. A token is a data point the model will train and predict. We common use a word or a character as a token."
   ]
  },
  {
   "cell_type": "code",
   "execution_count": 2,
   "metadata": {},
   "outputs": [
    {
     "name": "stdout",
     "output_type": "stream",
     "text": [
      "# of chars: 178605\n",
      "the time machine, by h. g. wells [1898] i the time traveller (for so i\n"
     ]
    }
   ],
   "source": [
    "lines = raw_text.split('\\n')\n",
    "text = ' '.join(' '.join(lines).lower().split())\n",
    "print('# of chars:', len(text))\n",
    "print(text[0:70])"
   ]
  },
  {
   "cell_type": "markdown",
   "metadata": {},
   "source": [
    "## Vocabulary\n",
    "\n",
    "Then we need to map tokens into numerical indices. We often call it a vocabulary. Its input is a list of tokens,  called a corpus. Then it counts the frequency of each token in this corpus, and then assigns an numerical index to each token according to its frequency. Rarely appeared tokens are often removed to reduce the complexity. A token doesn't exist in corpus or has been removed is mapped into a special unknown (“&lt;unk&gt;”) token. We optionally add another three special tokens: “&lt;pad&gt;” a token for padding, “&lt;bos&gt;” to present the beginning for a sentence, and “&lt;eos&gt;” for the ending of a sentence."
   ]
  },
  {
   "cell_type": "code",
   "execution_count": 3,
   "metadata": {
    "attributes": {
     "classes": [],
     "id": "",
     "n": "9"
    }
   },
   "outputs": [],
   "source": [
    "class Vocab(object):  # This class is saved in d2l.\n",
    "    def __init__(self, tokens, min_freq=0, use_special_tokens=False):\n",
    "        # sort by frequency and token\n",
    "        counter = collections.Counter(tokens)\n",
    "        token_freqs = sorted(counter.items(), key=lambda x: x[0])\n",
    "        token_freqs.sort(key=lambda x: x[1], reverse=True)\n",
    "        if use_special_tokens:\n",
    "            # padding, begin of sentence, end of sentence, unknown\n",
    "            self.pad, self.bos, self.eos, self.unk = (0, 1, 2, 3)\n",
    "            tokens = ['<pad>', '<bos>', '<eos>', '<unk>']\n",
    "        else:\n",
    "            self.unk = 0\n",
    "            tokens = ['<unk>']\n",
    "        tokens +=  [token for token, freq in token_freqs if freq >= min_freq]\n",
    "        self.idx_to_token = []\n",
    "        self.token_to_idx = dict()\n",
    "        for token in tokens:\n",
    "            self.idx_to_token.append(token)\n",
    "            self.token_to_idx[token] = len(self.idx_to_token) - 1\n",
    "\n",
    "    def __len__(self):\n",
    "        return len(self.idx_to_token)\n",
    "\n",
    "    def __getitem__(self, tokens):\n",
    "        if not isinstance(tokens, (list, tuple)):\n",
    "            return self.token_to_idx.get(tokens, self.unk)\n",
    "        else:\n",
    "            return [self.__getitem__(token) for token in tokens]\n",
    "\n",
    "    def to_tokens(self, indices):\n",
    "        if not isinstance(indices, (list, tuple)):\n",
    "            return self.idx_to_token[indices]\n",
    "        else:\n",
    "            return [self.idx_to_token[index] for index in indices]"
   ]
  },
  {
   "cell_type": "markdown",
   "metadata": {},
   "source": [
    "We construct a vocabulary with the time machine dataset as the corpus, and then print the map between tokens to indices."
   ]
  },
  {
   "cell_type": "code",
   "execution_count": 4,
   "metadata": {
    "attributes": {
     "classes": [],
     "id": "",
     "n": "23"
    }
   },
   "outputs": [
    {
     "name": "stdout",
     "output_type": "stream",
     "text": [
      "{'<unk>': 0, ' ': 1, 'e': 2, 't': 3, 'a': 4, 'i': 5, 'n': 6, 'o': 7, 's': 8, 'h': 9, 'r': 10, 'd': 11, 'l': 12, 'm': 13, 'u': 14, 'c': 15, 'f': 16, 'w': 17, 'g': 18, 'y': 19, 'p': 20, ',': 21, 'b': 22, '.': 23, 'v': 24, 'k': 25, \"'\": 26, '-': 27, 'x': 28, 'z': 29, ';': 30, 'j': 31, '?': 32, 'q': 33, '!': 34, '\"': 35, '_': 36, ':': 37, '(': 38, ')': 39, '8': 40, '[': 41, ']': 42, '1': 43, '9': 44}\n"
     ]
    }
   ],
   "source": [
    "vocab = Vocab(text)\n",
    "print(vocab.token_to_idx)"
   ]
  },
  {
   "cell_type": "markdown",
   "metadata": {},
   "source": [
    "After that, each character in the training data set is converted into an index ID. To illustrate things we print the first 20 characters and their corresponding indices."
   ]
  },
  {
   "cell_type": "code",
   "execution_count": 5,
   "metadata": {
    "attributes": {
     "classes": [],
     "id": "",
     "n": "25"
    }
   },
   "outputs": [
    {
     "name": "stdout",
     "output_type": "stream",
     "text": [
      "chars: ['t', 'h', 'e', ' ', 't', 'i', 'm', 'e', ' ', 'm', 'a', 'c', 'h', 'i', 'n']\n",
      "indices: [3, 9, 2, 1, 3, 5, 13, 2, 1, 13, 4, 15, 9, 5, 6]\n"
     ]
    }
   ],
   "source": [
    "corpus_indices = [vocab[char] for char in text]\n",
    "sample = corpus_indices[:15]\n",
    "print('chars:', [vocab.idx_to_token[idx] for idx in sample])\n",
    "print('indices:', sample)"
   ]
  },
  {
   "cell_type": "markdown",
   "metadata": {},
   "source": [
    "We packaged the above code in the `(corpus_indices, vocab) = load_data_timemachine()` function of the `d2l` package to make it easier to call it in later chapters.\n",
    "\n",
    "## Training Data Preparation\n",
    "\n",
    "During training, we need to read mini-batches of examples and labels at\n",
    "random. Since sequence data is by its very nature sequential, we need to address\n",
    "the issue of processing it. We did so in a rather ad-hoc manner when we\n",
    "introduced in :numref:`chapter_sequence`. Let's formalize this a bit. Consider the beginning of the book we just processed. If we want to split it up into sequences of 5 symbols each, we have quite some freedom since we could pick an arbitrary offset.\n",
    "\n",
    "![Different offsets lead to different subsequences when splitting up text.](../img/timemachine-5gram.svg)\n",
    "\n",
    "In fact, any one of these offsets is fine. Hence, which one should we pick? In fact, all of them are equally good. But if we pick all offsets we end up with rather redundant data due to overlap, particularly if the sequences are long. Picking just a random set of initial positions is no good either since it does not guarantee uniform coverage of the array. For instance, if we pick $n$ elements at random out of a set of $n$ with random replacement, the probability for a particular element not being picked is $(1-1/n)^n \\to e^{-1}$. This means that we cannot expect uniform coverage this way. Even randomly permuting a set of all offsets does not offer good guarantees. Instead we can use a simple trick to get both *coverage* and *randomness*: use a random offset, after which one uses the terms sequentially. We describe how to accomplish this for both random sampling and sequential partitioning strategies below.\n",
    "\n",
    "### Random sampling\n",
    "\n",
    "The following code randomly generates a minibatch from the data each time. Here, the batch size `batch_size` indicates to the number of examples in each mini-batch and `num_steps` is the length of the sequence (or time steps if we have a time series) included in each example.\n",
    "In random sampling, each example is a sequence arbitrarily captured on the original sequence. The positions of two adjacent random mini-batches on the original sequence are not necessarily adjacent. The target is to predict the next character based on what we've seen so far, hence the labels are the original sequence, shifted by one character. Note that this is not recommended for latent variable models, since we do not have access to the hidden state *prior* to seeing the sequence. We packaged the above code in the `load_data_timemachine` function of the `d2l` package to make it easier to call it in later chapters. It returns four variables: `corpus_indices`, `char_to_idx`, `idx_to_char`, and `vocab_size`."
   ]
  },
  {
   "cell_type": "code",
   "execution_count": 6,
   "metadata": {
    "attributes": {
     "classes": [],
     "id": "",
     "n": "5"
    }
   },
   "outputs": [],
   "source": [
    "# This function is saved in the d2l package for future use\n",
    "def data_iter_random(corpus_indices, batch_size, num_steps, ctx=None):\n",
    "    # Offset for the iterator over the data for uniform starts\n",
    "    offset = int(random.uniform(0,num_steps))\n",
    "    corpus_indices = corpus_indices[offset:]\n",
    "    # Subtract 1 extra since we need to account for the sequence length\n",
    "    num_examples = ((len(corpus_indices) - 1) // num_steps) - 1\n",
    "    # Discard half empty batches\n",
    "    num_batches = num_examples // batch_size\n",
    "    example_indices = list(range(0, num_examples * num_steps, num_steps))\n",
    "    random.shuffle(example_indices)\n",
    "\n",
    "    # This returns a sequence of the length num_steps starting from pos\n",
    "    def _data(pos):\n",
    "        return corpus_indices[pos: pos + num_steps]\n",
    "\n",
    "    for i in range(0, batch_size * num_batches, batch_size):\n",
    "        # Batch_size indicates the random examples read each time\n",
    "        batch_indices = example_indices[i:(i+batch_size)]\n",
    "        X = [_data(j) for j in batch_indices]\n",
    "        Y = [_data(j + 1) for j in batch_indices]\n",
    "        yield nd.array(X, ctx), nd.array(Y, ctx)"
   ]
  },
  {
   "cell_type": "markdown",
   "metadata": {},
   "source": [
    "Let us generate an artificial sequence from 0 to 30. We assume that\n",
    "the batch size and numbers of time steps are 2 and 5\n",
    "respectively. This means that depending on the offset we can generate between 4 and 5 $(x,y)$ pairs. With a minibatch size of 2 we only get 2 minibatches."
   ]
  },
  {
   "cell_type": "code",
   "execution_count": 7,
   "metadata": {
    "attributes": {
     "classes": [],
     "id": "",
     "n": "6"
    }
   },
   "outputs": [
    {
     "name": "stdout",
     "output_type": "stream",
     "text": [
      "X:  \n",
      "[[ 8.  9. 10. 11. 12.]\n",
      " [ 3.  4.  5.  6.  7.]]\n",
      "<NDArray 2x5 @cpu(0)> \n",
      "Y: \n",
      "[[ 9. 10. 11. 12. 13.]\n",
      " [ 4.  5.  6.  7.  8.]]\n",
      "<NDArray 2x5 @cpu(0)>\n",
      "X:  \n",
      "[[13. 14. 15. 16. 17.]\n",
      " [18. 19. 20. 21. 22.]]\n",
      "<NDArray 2x5 @cpu(0)> \n",
      "Y: \n",
      "[[14. 15. 16. 17. 18.]\n",
      " [19. 20. 21. 22. 23.]]\n",
      "<NDArray 2x5 @cpu(0)>\n"
     ]
    }
   ],
   "source": [
    "my_seq = list(range(30))\n",
    "for X, Y in data_iter_random(my_seq, batch_size=2, num_steps=5):\n",
    "    print('X: ', X, '\\nY:', Y)"
   ]
  },
  {
   "cell_type": "markdown",
   "metadata": {},
   "source": [
    "### Sequential partitioning\n",
    "\n",
    "In addition to random sampling of the original sequence, we can also make the positions of two adjacent random mini-batches adjacent in the original sequence. Now, we can use a hidden state of the last time step of a mini-batch to initialize the hidden state of the next mini-batch, so that the output of the next mini-batch is also dependent on the input of the mini-batch, with this pattern continuing in subsequent mini-batches. This has two effects on the implementation of a recurrent neural network. On the one hand,\n",
    "when training the model, we only need to initialize the hidden state at the beginning of each epoch.\n",
    "On the other hand, when multiple adjacent mini-batches are concatenated by passing hidden states, the gradient calculation of the model parameters will depend on all the mini-batch sequences that are concatenated. In the same epoch as the number of iterations increases, the costs of gradient calculation rise.\n",
    "So that the model parameter gradient calculations only depend on the mini-batch sequence read by one iteration, we can separate the hidden state from the computational graph before reading the mini-batch (this can be done by detaching the graph). We will gain a deeper understand this approach in the following sections."
   ]
  },
  {
   "cell_type": "code",
   "execution_count": 8,
   "metadata": {
    "attributes": {
     "classes": [],
     "id": "",
     "n": "7"
    }
   },
   "outputs": [],
   "source": [
    "# This function is saved in the d2l package for future use\n",
    "def data_iter_consecutive(corpus_indices, batch_size, num_steps, ctx=None):\n",
    "    # Offset for the iterator over the data for uniform starts\n",
    "    offset = int(random.uniform(0,num_steps))\n",
    "    # Slice out data - ignore num_steps and just wrap around\n",
    "    num_indices = ((len(corpus_indices) - offset) // batch_size) * batch_size\n",
    "    indices = nd.array(corpus_indices[offset:(offset + num_indices)], ctx=ctx)\n",
    "    indices = indices.reshape((batch_size,-1))\n",
    "    # Need to leave one last token since targets are shifted by 1\n",
    "    num_epochs = ((num_indices // batch_size) - 1) // num_steps\n",
    "\n",
    "    for i in range(0, num_epochs * num_steps, num_steps):\n",
    "        X = indices[:,i:(i+num_steps)]\n",
    "        Y = indices[:,(i+1):(i+1+num_steps)]\n",
    "        yield X, Y"
   ]
  },
  {
   "cell_type": "markdown",
   "metadata": {},
   "source": [
    "Using the same settings, print input `X` and label `Y` for each mini-batch of examples read by random sampling. The positions of two adjacent random mini-batches on the original sequence are adjacent."
   ]
  },
  {
   "cell_type": "code",
   "execution_count": 9,
   "metadata": {
    "attributes": {
     "classes": [],
     "id": "",
     "n": "8"
    }
   },
   "outputs": [
    {
     "name": "stdout",
     "output_type": "stream",
     "text": [
      "X:  \n",
      "[[ 0.  1.  2.  3.  4.  5.]\n",
      " [15. 16. 17. 18. 19. 20.]]\n",
      "<NDArray 2x6 @cpu(0)> \n",
      "Y: \n",
      "[[ 1.  2.  3.  4.  5.  6.]\n",
      " [16. 17. 18. 19. 20. 21.]]\n",
      "<NDArray 2x6 @cpu(0)>\n",
      "X:  \n",
      "[[ 6.  7.  8.  9. 10. 11.]\n",
      " [21. 22. 23. 24. 25. 26.]]\n",
      "<NDArray 2x6 @cpu(0)> \n",
      "Y: \n",
      "[[ 7.  8.  9. 10. 11. 12.]\n",
      " [22. 23. 24. 25. 26. 27.]]\n",
      "<NDArray 2x6 @cpu(0)>\n"
     ]
    }
   ],
   "source": [
    "for X, Y in data_iter_consecutive(my_seq, batch_size=2, num_steps=6):\n",
    "    print('X: ', X, '\\nY:', Y)"
   ]
  },
  {
   "cell_type": "markdown",
   "metadata": {},
   "source": [
    "Sequential partitioning decomposes the sequence into `batch_size` many strips of data which are traversed as we iterate over minibatches. Note that the $i$-th element in a minibatch matches with the $i$-th element of the next minibatch rather than within a minibatch.\n",
    "\n",
    "## Summary\n",
    "\n",
    "* Documents are preprocessed by tokenizing the words and mapping them into IDs. There are multiple methods:\n",
    "    * Character encoding which uses individual characters (good e.g. for Chinese)\n",
    "    * Word encoding (good e.g. for English)\n",
    "    * Byte-pair encoding (good for languages that have lots of morphology, e.g. German)\n",
    "* The main choices for sequence partitioning are whether we pick consecutive or random sequences. In particular for recurrent networks the former is critical.\n",
    "* Given the overall document length, it is usually acceptable to be slightly wasteful with the documents and discard half-empty minibatches.\n",
    "\n",
    "## Exercises\n",
    "\n",
    "1. Which other other mini-batch data sampling methods can you think of?\n",
    "1. Why is it a good idea to have a random offset?\n",
    "    * Does it really lead to a perfectly uniform distribution over the sequences on the document?\n",
    "    * What would you have to do to make things even more uniform?\n",
    "1. If we want a sequence example to be a complete sentence, what kinds of problems does this introduce in mini-batch sampling? Why would we want to do this anyway?\n",
    "\n",
    "## Scan the QR Code to [Discuss](https://discuss.mxnet.io/t/2363)\n",
    "\n",
    "![](../img/qr_lang-model-dataset.svg)"
   ]
  }
 ],
 "metadata": {
  "language_info": {
   "name": "python"
  }
 },
 "nbformat": 4,
 "nbformat_minor": 2
}